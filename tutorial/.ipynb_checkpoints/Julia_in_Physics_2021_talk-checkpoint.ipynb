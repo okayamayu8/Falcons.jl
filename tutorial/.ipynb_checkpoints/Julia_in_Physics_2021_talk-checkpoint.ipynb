{
 "cells": [
  {
   "cell_type": "markdown",
   "id": "038052d1",
   "metadata": {},
   "source": [
    "#  次世代型CMB観測実験のための全天スキャンシミュレータ\n",
    "## 髙瀬 祐介 (岡山大学)\n",
    "### *Julia in Physics 2021 Sep. 3rd*"
   ]
  },
  {
   "cell_type": "code",
   "execution_count": null,
   "id": "5cb4333d",
   "metadata": {},
   "outputs": [],
   "source": [
    "using Falcons\n",
    "using Healpix\n",
    "using Plots\n",
    "using PyPlot\n",
    "pyplot();"
   ]
  },
  {
   "cell_type": "markdown",
   "id": "738b387b",
   "metadata": {},
   "source": [
    "# Falcons.jl\n",
    "\n",
    "[Falcons](https://yusuke-takase.github.io/Falcons.jl/dev/)は宇宙マイクロ波背景放射(Cosmic Microwave Background, CMB)など，衛星による全天観測が求められる実験のためのシミュレーションツールである．\n",
    "\n",
    "一般に，観測衛星は望遠鏡を空のある一点へ向け，その点からの放射を観測する．この時，望遠鏡が向いている方向を特徴づける量としてPointingという量が用いられ，次の形で定義される．\n",
    "$$\n",
    "\\boldsymbol{p(t)} = ( \\theta(t), \\phi(t), \\psi(t) )\n",
    "$$\n",
    "`Falcons`はこのPointing計算を高速に提供する．\n",
    "\n",
    "## installation\n",
    "```\n",
    "] add Falcons\n",
    "# dev版をgitからインストールするには\n",
    "] add https://github.com/yusuke-takase/Falcons.jl.git \n",
    "```\n",
    "\n",
    "<img src=\"./img/example.gif\">"
   ]
  },
  {
   "cell_type": "markdown",
   "id": "5490b7f0",
   "metadata": {},
   "source": [
    "# 衛星スキャン戦略\n",
    "全天観測衛星は宇宙全天を隈なく探索するためのスキャン戦略を設定する．スキャン戦略の代表的なパラメータは以下の4つで，\n",
    "$$\n",
    "\\alpha: 歳差軸角度\\\\\n",
    "\\beta: スピン軸角度\\\\\n",
    "\\omega_\\alpha: 歳差運動角速度\\\\\n",
    "\\omega_\\beta: スピン運動角速度\\\\\n",
    "$$\n",
    "\n",
    "<img src=\"./img/scan_strategy.png\">"
   ]
  },
  {
   "cell_type": "markdown",
   "id": "9a1c7fe3",
   "metadata": {},
   "source": [
    "# Falconsのデモンストレーション\n",
    "ここから`Falcons`のデモンストレーションを行う．初めにスキャン戦略を設定する．"
   ]
  },
  {
   "cell_type": "code",
   "execution_count": null,
   "id": "4a73049e",
   "metadata": {},
   "outputs": [],
   "source": [
    "ss = gen_ScanningStrategy();\n",
    "ss.nside = 64\n",
    "ss.alpha = 40\n",
    "ss.beta = 55\n",
    "ss.spin_rpm = 0.03\n",
    "ss.prec_rpm = period2rpm(160) # period2rpm( min. )\n",
    "ss.sampling_rate = 1;"
   ]
  },
  {
   "cell_type": "markdown",
   "id": "c26549e6",
   "metadata": {},
   "source": [
    "設定したスキャン戦略で空がどのようにスキャンされるかプロットして確認する．  \n",
    "Pointingの時系列データ(Time-Orderd Data, TOD)を取得するには`get_pointings`関数を使用する．この際，引数は`ss`と観測期間のみで良い．"
   ]
  },
  {
   "cell_type": "code",
   "execution_count": null,
   "id": "2019ed90",
   "metadata": {},
   "outputs": [],
   "source": [
    "day = 60*60*24\n",
    "time = [1000, 5000, 10000, 30day]\n",
    "track = [HealpixMap{Float64, RingOrder}(ss.nside) for i in eachindex(time)]\n",
    "\n",
    "for i in eachindex(time)\n",
    "    # pointingの計算\n",
    "    pointings = get_pointings(ss, 0, time[i]) # 観測期間を0秒からtime[i]までとして設定\n",
    "    # TOD --> Mapへ格納\n",
    "    track[i].pixels = angtod2hitmap(ss.nside, pointings[\"theta\"], pointings[\"phi\"])\n",
    "end\n",
    "\n",
    "plts = [Plots.plot(track[i], c=:viridis, title=\"duration=\"*\"$(time[i]) sec.\") for i in eachindex(time)]\n",
    "    \n",
    "Plots.plot(plts[1], plts[2], plts[3], plts[4], layout=(1,length(time)), size=(1400,300))"
   ]
  },
  {
   "cell_type": "markdown",
   "id": "fd9c69d7",
   "metadata": {},
   "source": [
    "`get_pointings`関数の返り値は辞書型の配列になっており，それぞれ\n",
    "```julia\n",
    "pointings = get_pointings(ss::ScanningStrategy, start::Int, stop::Int)\n",
    "\n",
    "pointings[\"theta\"] # Array\n",
    "pointings[\"phi\"]   # Array\n",
    "pointings[\"psi\"]   # Array\n",
    "```\n",
    "という構造を持つ．これらの配列要素にはTODが格納されている．  \n",
    "また，Hitmapを作成するためには`angtod2hitmap`関数を使用すれば良い．引数はNsideと$\\theta, \\phi$のTODである．\n",
    "\n",
    "上の使用例は原理的なもので，実際にPointing計算からHitmapの作成は`ScanningStrategy2map`関数で容易に行うことができる．"
   ]
  },
  {
   "cell_type": "code",
   "execution_count": null,
   "id": "c6f46c1a",
   "metadata": {},
   "outputs": [],
   "source": [
    "outmap = ScanningStrategy2map(ss, 4) # ssを渡すだけでマップが計算される．\n",
    "\n",
    "hitmap = HealpixMap{Float64, RingOrder}(ss.nside)\n",
    "hitmap.pixels = log10.(outmap[1])\n",
    "Plots.plot(hitmap, c=:viridis, title=\"1 year hitmap, log scale\")"
   ]
  },
  {
   "cell_type": "markdown",
   "id": "cf5c3e86",
   "metadata": {},
   "source": [
    "# Crosslink\n",
    "ここでCrosslinkという新たな概念を導入する．近年，CMBの偏光を精密測定することでインフレーション(宇宙初期の急激な空間膨張)起源の原始重力波を探索する研究が世界中で行われている．\n",
    "一般に，偏光を観測するためには検出器の角度$\\psi$を変えながら複数回($\\mu$回)観測する必要がある．つまり，全天に分布するピクセルから放射される電磁波の偏光を衛星で測定するためには，衛星はそのピクセルをあらゆる方向からスキャンしなければならない．\n",
    "\n",
    "<img src=\"./img/crosslink.png\">"
   ]
  },
  {
   "cell_type": "code",
   "execution_count": null,
   "id": "85b25691",
   "metadata": {},
   "outputs": [],
   "source": [
    "xlink2 = HealpixMap{Float64, RingOrder}(ss.nside)\n",
    "xlink2.pixels = outmap[3]\n",
    "Plots.plot(xlink2, c=:viridis, title=\"1 year crosslink\")"
   ]
  },
  {
   "cell_type": "markdown",
   "id": "f271fc5e",
   "metadata": {},
   "source": [
    "色が黄色い領域ほど，同じ方向しかスキャンができておらず，偏光観測における不定性が大きくなってしまう．"
   ]
  },
  {
   "cell_type": "markdown",
   "id": "7dfe4511",
   "metadata": {},
   "source": [
    "## 今回のスキャン結果のまとめ\n",
    "1. マップの$\\phi$方向(東西方向)に線が走っている ==> これはバイアスを生む可能性がある．\n",
    "2. Crosslinkが大きい ==> 偏光観測に対する不定性が大きい．\n",
    "\n",
    "マップの分布をヒストグラムで確認してみる．ヒストグラムの分散が小さい方がスキャンが均一であると言える．"
   ]
  },
  {
   "cell_type": "code",
   "execution_count": null,
   "id": "ced7297e",
   "metadata": {},
   "outputs": [],
   "source": [
    "histogram(outmap[1], bins=range(0, maximum(outmap[1]), step=200), \n",
    "    title=\"Histogram of hitmap\",\n",
    "    xlabel=\"Number of hits\",\n",
    "    ylabel=\"Number of pixels\",\n",
    "    alpha=1,\n",
    "    label=false,\n",
    "    yaxis=:log10)"
   ]
  },
  {
   "cell_type": "markdown",
   "id": "fac81a22",
   "metadata": {},
   "source": [
    "ヒストグラムが分裂しているため，ヒットに偏りがあることがわかる．また分散も500 - 2000 ヒットにわたって分布している．  \n",
    "Crosslinkについても同様に確認してみる．"
   ]
  },
  {
   "cell_type": "code",
   "execution_count": null,
   "id": "d744c8e3",
   "metadata": {},
   "outputs": [],
   "source": [
    "histogram(outmap[3], bins=range(0, 1, step=0.05), \n",
    "    title=\"Histogram of crosslink\",\n",
    "    xlabel=\"Crosslink\",\n",
    "    ylabel=\"Number of pixels\",\n",
    "    alpha=1,\n",
    "    label=false,\n",
    "    yaxis =:log10)"
   ]
  },
  {
   "cell_type": "markdown",
   "id": "bf2b8442",
   "metadata": {},
   "source": [
    "クロスリンクも分散が大きく，平均値も大きいことがわかる．やはりこのスキャン戦略はあまり偏光観測には適していないということになる．"
   ]
  },
  {
   "cell_type": "markdown",
   "id": "c1a7417b",
   "metadata": {},
   "source": [
    "# スキャン戦略の再構築\n",
    "では偏光観測に適しているスキャン戦略はどのようになるだろうか？\n",
    "例えば，衛星の角速度について[Duc Thuong Hoang et al.](https://arxiv.org/abs/1706.09486)によると\n",
    "$\\theta=\\frac{\\omega_\\beta}{\\omega_\\alpha}$，$a_n$を整数と定義した時，\n",
    "\n",
    "<img src=\"./img/ratio.png\">\n",
    "\n",
    "のような表式で展開できる$\\theta$の場合，軌道がだんだんずれていき，同じ緯度上で重なりにくくなるようである．  \n",
    "この論文に倣って，スピンと歳差運動の角速度比が割り切れない数値でスキャン戦略の再構成を行う．"
   ]
  },
  {
   "cell_type": "code",
   "execution_count": null,
   "id": "e765eeb1",
   "metadata": {},
   "outputs": [],
   "source": [
    "println(\"スピンの角速度: \", ss.spin_rpm)\n",
    "println(\"歳差運動の角速度: \", ss.prec_rpm)\n",
    "println(\"現在の角速度比: \", ss.spin_rpm/ss.prec_rpm)"
   ]
  },
  {
   "cell_type": "markdown",
   "id": "3237e9b0",
   "metadata": {},
   "source": [
    "既約分数で表せる角速度比となっていた．歳差運動の角速度に少し変更を加える．"
   ]
  },
  {
   "cell_type": "code",
   "execution_count": null,
   "id": "af44c2d7",
   "metadata": {},
   "outputs": [],
   "source": [
    "ss.prec_rpm = 0.00653973 # 0.006665 #(horrible example)\n",
    "println(\"変更後の角速度比: \", ss.spin_rpm/ss.prec_rpm)"
   ]
  },
  {
   "cell_type": "code",
   "execution_count": null,
   "id": "f95c6d64",
   "metadata": {},
   "outputs": [],
   "source": [
    "outmap_new = ScanningStrategy2map(ss, 4);\n",
    "\n",
    "hitmap_new = HealpixMap{Float64, RingOrder}(ss.nside)\n",
    "X_2_new = HealpixMap{Float64, RingOrder}(ss.nside)\n",
    "hitmap_new.pixels = log10.(outmap_new[1])\n",
    "X_2_new.pixels = outmap_new[3];\n",
    "\n",
    "hit_new = Plots.plot(hitmap_new, c=:viridis, title=\"1 year hitmap, log scale\")\n",
    "xlink_new = Plots.plot(X_2_new, c=:viridis, title=\"1 year crosslink\");\n",
    "Plots.plot(hit_new, xlink_new, layout=(1,2), size=(1200,300))"
   ]
  },
  {
   "cell_type": "markdown",
   "id": "81f579a4",
   "metadata": {},
   "source": [
    "$\\phi$方向の線が消え，スピンによる接線のみになったことがわかる．次にヒストグラムを確認してみる．"
   ]
  },
  {
   "cell_type": "code",
   "execution_count": null,
   "id": "27527795",
   "metadata": {},
   "outputs": [],
   "source": [
    "hit_hist = histogram(outmap_new[1], bins=range(0, maximum(outmap[1]), step=200), \n",
    "    title=\"Histogram of hitmap\",\n",
    "    xlabel=\"Number of hits\",\n",
    "    ylabel=\"Number of pixels\",\n",
    "    alpha=1,\n",
    "    label=false,\n",
    "    yaxis=:log10)\n",
    "\n",
    "xlink_hist = histogram(outmap_new[3], bins=range(0, 1, step=0.05), \n",
    "    title=\"Histogram of crosslink(n=2)\",\n",
    "    xlabel=\"Crosslink\",\n",
    "    ylabel=\"Number of pixels\",\n",
    "    alpha=1,\n",
    "    label=false,\n",
    "    yaxis =:log10)\n",
    "\n",
    "Plots.plot(hit_hist, xlink_hist, layout=(1,2), size=(1200,300))"
   ]
  },
  {
   "cell_type": "markdown",
   "id": "56b8a934",
   "metadata": {},
   "source": [
    "### 結果\n",
    "1. Hitmapのヒストグラムに分裂が消えヒット数の分布がなだらかになっている．\n",
    "2. クロスリンクの平均値が小さくなり，分散も小さくなっている．\n",
    "\n",
    "この結果から，初めのパラメータセットよりは偏光観測に対するスキャン戦略由来の系統的効果の低減が期待される．\n"
   ]
  },
  {
   "cell_type": "markdown",
   "id": "118596d0",
   "metadata": {},
   "source": [
    "## まとめ\n",
    "- `Falcons`ではスキャン戦略の評価が行える．\n",
    "- 内部では[StaticArrays](https://github.com/JuliaArrays/StaticArrays.jl)や[ReferenceFrameRotations](https://github.com/JuliaSpace/ReferenceFrameRotations.jl)が提供するQuarternionで線形代数演算が行われており単一スレッドでも高速に動作する．\n",
    "    - マルチスレッドにも対応している．\n",
    "- 任意のスーパーコンピュターで動作可能である．\n",
    "- より詳しい物理の話は9/15, 日本物理学会15aW2で発表予定"
   ]
  },
  {
   "cell_type": "code",
   "execution_count": null,
   "id": "26e1dddf",
   "metadata": {},
   "outputs": [],
   "source": []
  }
 ],
 "metadata": {
  "kernelspec": {
   "display_name": "Julia 1.6.1",
   "language": "julia",
   "name": "julia-1.6"
  },
  "language_info": {
   "file_extension": ".jl",
   "mimetype": "application/julia",
   "name": "julia",
   "version": "1.6.1"
  }
 },
 "nbformat": 4,
 "nbformat_minor": 5
}
